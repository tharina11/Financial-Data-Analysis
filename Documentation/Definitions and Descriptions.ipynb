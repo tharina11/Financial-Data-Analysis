{
 "cells": [
  {
   "cell_type": "markdown",
   "metadata": {},
   "source": [
    "#### Intrinsic Value of a Stock\n",
    "Intrinsic value is a measure of the actual worth of a stock. It refers to a fundamental, objective value of an asset. \n",
    "There are multiple methods to calculate intrinsic value of a stock. These methods use measures such as dividend payments, discounted cashflows and residual incomes. Each method relies heavily on assumptions. If the assumptions are wrong, models will deviate from the true intrinsic value.\n",
    "\n",
    "#### Weighted Average Cost of Capital (WACC)\n",
    "WACC is the average rate which a company pays to finance its assets. This is calculated by averaging the rate of all of the company's sources of capital (both debt and equity). \n",
    "Increase in a company's debt debt as a part of total capital, and obtaining lower financial ratings generally lowers WACC. \n",
    "\n",
    "WACC Formula\n",
    "\n",
    "WACC = K(SE) * [SE/(SE+D)] + [D/(SE+D)]*[K(D) * (1-TAX RATE)]\n",
    "\n",
    "   - K(SE) = rate of return required by shareholders\n",
    "   - SE = Shareholders’ equity\n",
    "   - D = Total debt\n",
    "   - K (D) = average interest rate on debt incurred"
   ]
  },
  {
   "cell_type": "markdown",
   "metadata": {},
   "source": [
    "Reference: \n",
    "- [Investopedia](https://www.investopedia.com/articles/basics/12/intrinsic-value.asp#:~:text=Intrinsic%20value%20refers%20to%20some,of%20a%20share's%20intrinsic%20value.)\n",
    "\n",
    "- [Business Development bank of Canada](https://www.bdc.ca/en/articles-tools/entrepreneur-toolkit/templates-business-guides/glossary/weighted-average-cost-of-capital#:~:text=The%20weighted%20average%20cost%20of,the%20proportion%20of%20each%20component.)"
   ]
  },
  {
   "cell_type": "code",
   "execution_count": null,
   "metadata": {},
   "outputs": [],
   "source": []
  }
 ],
 "metadata": {
  "kernelspec": {
   "display_name": "Python 3 (ipykernel)",
   "language": "python",
   "name": "python3"
  },
  "language_info": {
   "codemirror_mode": {
    "name": "ipython",
    "version": 3
   },
   "file_extension": ".py",
   "mimetype": "text/x-python",
   "name": "python",
   "nbconvert_exporter": "python",
   "pygments_lexer": "ipython3",
   "version": "3.10.11"
  }
 },
 "nbformat": 4,
 "nbformat_minor": 2
}
