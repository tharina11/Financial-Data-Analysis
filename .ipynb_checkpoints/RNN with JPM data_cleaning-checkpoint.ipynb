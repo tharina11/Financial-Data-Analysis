{
 "cells": [
  {
   "cell_type": "code",
   "execution_count": 68,
   "id": "3dc6a38a",
   "metadata": {},
   "outputs": [],
   "source": [
    "import psycopg2\n",
    "import yfinance as yf\n",
    "import numpy as np\n",
    "import pandas as pd\n",
    "from psycopg2.extensions import register_adapter, AsIs\n",
    "psycopg2.extensions.register_adapter(np.int64, psycopg2._psycopg.AsIs)\n",
    "from datetime import date\n",
    "from datetime import datetime"
   ]
  },
  {
   "cell_type": "code",
   "execution_count": 26,
   "id": "1340f76e",
   "metadata": {},
   "outputs": [],
   "source": [
    "from pandas import read_csv\n",
    "from keras.models import Sequential\n",
    "from keras.layers import Dense, SimpleRNN\n",
    "from sklearn.preprocessing import MinMaxScaler\n",
    "from sklearn.metrics import mean_squared_error\n",
    "import math\n",
    "import matplotlib.pyplot as plt"
   ]
  },
  {
   "cell_type": "code",
   "execution_count": 69,
   "id": "9ee926f2",
   "metadata": {},
   "outputs": [],
   "source": [
    "ticker_name = 'JPM'"
   ]
  },
  {
   "cell_type": "code",
   "execution_count": 70,
   "id": "e9432c82",
   "metadata": {},
   "outputs": [
    {
     "data": {
      "text/plain": [
       "{'address1': '383 Madison Avenue',\n",
       " 'city': 'New York',\n",
       " 'state': 'NY',\n",
       " 'zip': '10179',\n",
       " 'country': 'United States',\n",
       " 'phone': '212 270 6000',\n",
       " 'website': 'https://www.jpmorganchase.com',\n",
       " 'industry': 'Banks—Diversified',\n",
       " 'industryDisp': 'Banks—Diversified',\n",
       " 'sector': 'Financial Services',\n",
       " 'sectorDisp': 'Financial Services',\n",
       " 'longBusinessSummary': 'JPMorgan Chase & Co. operates as a financial services company worldwide. It operates through four segments: Consumer & Community Banking (CCB), Corporate & Investment Bank (CIB), Commercial Banking (CB), and Asset & Wealth Management (AWM). The CCB segment offers deposit, investment and lending products, cash management, and payments and services to consumers and small businesses; mortgage origination and servicing activities; residential mortgages and home equity loans; and credit cards, auto loans, leases, and travel services. The CIB segment provides investment banking products and services, including corporate strategy and structure advisory, and equity and debt markets capital-raising services, as well as loan origination and syndication; payments and cross-border financing; and cash and derivative instruments, risk management solutions, prime brokerage, and research. This segment also offers securities services, including custody, fund accounting and administration, and securities lending products for asset managers, insurance companies, and public and private investment funds. The CB segment provides financial solutions, including lending, payments, investment banking, and asset management to small and midsized companies, local governments, nonprofit clients, and large corporations; and commercial real estate banking services to investors, developers, and owners of multifamily, office, retail, industrial, and affordable housing properties. The AWM segment offers multi-asset investment management solutions in equities, fixed income, alternatives, and money market funds to institutional clients and retail investors; and retirement products and services, brokerage, custody, estate planning, lending, deposits, and investment management products. The company also provides ATM, online and mobile, and telephone banking services. JPMorgan Chase & Co. was founded in 1799 and is headquartered in New York, New York.',\n",
       " 'fullTimeEmployees': 300066,\n",
       " 'companyOfficers': [{'maxAge': 1,\n",
       "   'name': 'Mr. James  Dimon',\n",
       "   'age': 66,\n",
       "   'title': 'Chairman & CEO',\n",
       "   'yearBorn': 1956,\n",
       "   'fiscalYear': 2022,\n",
       "   'totalPay': 6818729,\n",
       "   'exercisedValue': 0,\n",
       "   'unexercisedValue': 0},\n",
       "  {'maxAge': 1,\n",
       "   'name': 'Mr. Daniel Eduardo Pinto',\n",
       "   'age': 59,\n",
       "   'title': 'Pres & COO',\n",
       "   'yearBorn': 1963,\n",
       "   'fiscalYear': 2022,\n",
       "   'totalPay': 7162401,\n",
       "   'exercisedValue': 7226498,\n",
       "   'unexercisedValue': 0},\n",
       "  {'maxAge': 1,\n",
       "   'name': 'Mr. Jeremy  Barnum',\n",
       "   'age': 49,\n",
       "   'title': 'Exec. VP & CFO',\n",
       "   'yearBorn': 1973,\n",
       "   'fiscalYear': 2022,\n",
       "   'totalPay': 5255000,\n",
       "   'exercisedValue': 0,\n",
       "   'unexercisedValue': 0},\n",
       "  {'maxAge': 1,\n",
       "   'name': 'Ms. Mary Callahan Erdoes',\n",
       "   'age': 55,\n",
       "   'title': 'Chief Exec. Officer of Asset & Wealth Management',\n",
       "   'yearBorn': 1967,\n",
       "   'fiscalYear': 2022,\n",
       "   'totalPay': 10655000,\n",
       "   'exercisedValue': 0,\n",
       "   'unexercisedValue': 0},\n",
       "  {'maxAge': 1,\n",
       "   'name': 'Ms. Marianne  Lake',\n",
       "   'age': 52,\n",
       "   'title': 'Co-Chief Exec. Officer of Consumer & Community Banking',\n",
       "   'yearBorn': 1970,\n",
       "   'fiscalYear': 2022,\n",
       "   'totalPay': 7520688,\n",
       "   'exercisedValue': 0,\n",
       "   'unexercisedValue': 0},\n",
       "  {'maxAge': 1,\n",
       "   'name': 'Ms. Jennifer A. Piepszak',\n",
       "   'age': 51,\n",
       "   'title': 'Co-Chief Exec. Officer of Consumer & Community Banking',\n",
       "   'yearBorn': 1971,\n",
       "   'fiscalYear': 2022,\n",
       "   'totalPay': 7455000,\n",
       "   'exercisedValue': 0,\n",
       "   'unexercisedValue': 0},\n",
       "  {'maxAge': 1,\n",
       "   'name': 'Ms. Elena A. Korablina',\n",
       "   'age': 48,\n",
       "   'title': 'MD, Firmwide Controller & Principal Accounting Officer',\n",
       "   'yearBorn': 1974,\n",
       "   'exercisedValue': 0,\n",
       "   'unexercisedValue': 0},\n",
       "  {'maxAge': 1,\n",
       "   'name': 'Ms. Lori Ann Beer',\n",
       "   'age': 54,\n",
       "   'title': 'Global Chief Information Officer',\n",
       "   'yearBorn': 1968,\n",
       "   'exercisedValue': 0,\n",
       "   'unexercisedValue': 0},\n",
       "  {'maxAge': 1,\n",
       "   'name': 'Mr. Mikael  Grubb',\n",
       "   'title': 'Head of Investor Relations',\n",
       "   'exercisedValue': 0,\n",
       "   'unexercisedValue': 0},\n",
       "  {'maxAge': 1,\n",
       "   'name': 'Ms. Stacey  Friedman',\n",
       "   'age': 53,\n",
       "   'title': 'Exec. VP & Gen. Counsel',\n",
       "   'yearBorn': 1969,\n",
       "   'exercisedValue': 0,\n",
       "   'unexercisedValue': 0}],\n",
       " 'auditRisk': 10,\n",
       " 'boardRisk': 6,\n",
       " 'compensationRisk': 7,\n",
       " 'shareHolderRightsRisk': 3,\n",
       " 'overallRisk': 6,\n",
       " 'governanceEpochDate': 1690848000,\n",
       " 'compensationAsOfEpochDate': 1672444800,\n",
       " 'maxAge': 86400,\n",
       " 'priceHint': 2,\n",
       " 'previousClose': 153.56,\n",
       " 'open': 153.03,\n",
       " 'dayLow': 152.63,\n",
       " 'dayHigh': 154.52,\n",
       " 'regularMarketPreviousClose': 153.56,\n",
       " 'regularMarketOpen': 153.03,\n",
       " 'regularMarketDayLow': 152.63,\n",
       " 'regularMarketDayHigh': 154.52,\n",
       " 'dividendRate': 4.0,\n",
       " 'dividendYield': 0.025899999,\n",
       " 'exDividendDate': 1688515200,\n",
       " 'payoutRatio': 0.2572,\n",
       " 'fiveYearAvgDividendYield': 2.82,\n",
       " 'beta': 1.083477,\n",
       " 'trailingPE': 9.926092,\n",
       " 'forwardPE': 10.49966,\n",
       " 'volume': 5140888,\n",
       " 'regularMarketVolume': 5140888,\n",
       " 'averageVolume': 9968337,\n",
       " 'averageVolume10days': 6966270,\n",
       " 'averageDailyVolume10Day': 6966270,\n",
       " 'bid': 154.34,\n",
       " 'ask': 154.72,\n",
       " 'bidSize': 1100,\n",
       " 'askSize': 1300,\n",
       " 'marketCap': 448847118336,\n",
       " 'fiftyTwoWeekLow': 101.28,\n",
       " 'fiftyTwoWeekHigh': 159.38,\n",
       " 'priceToSalesTrailing12Months': 3.319384,\n",
       " 'fiftyDayAverage': 147.8462,\n",
       " 'twoHundredDayAverage': 138.2508,\n",
       " 'trailingAnnualDividendRate': 4.0,\n",
       " 'trailingAnnualDividendYield': 0.02604845,\n",
       " 'currency': 'USD',\n",
       " 'enterpriseValue': -209578131456,\n",
       " 'profitMargins': 0.35379001,\n",
       " 'floatShares': 2892601037,\n",
       " 'sharesOutstanding': 2906099968,\n",
       " 'sharesShort': 19402547,\n",
       " 'sharesShortPriorMonth': 16536682,\n",
       " 'sharesShortPreviousMonthDate': 1688083200,\n",
       " 'dateShortInterest': 1690761600,\n",
       " 'sharesPercentSharesOut': 0.0067000003,\n",
       " 'heldPercentInsiders': 0.00885,\n",
       " 'heldPercentInstitutions': 0.71106005,\n",
       " 'shortRatio': 1.66,\n",
       " 'shortPercentOfFloat': 0.0067000003,\n",
       " 'impliedSharesOutstanding': 0,\n",
       " 'bookValue': 98.109,\n",
       " 'priceToBook': 1.5742694,\n",
       " 'lastFiscalYearEnd': 1672444800,\n",
       " 'nextFiscalYearEnd': 1703980800,\n",
       " 'mostRecentQuarter': 1688083200,\n",
       " 'earningsQuarterlyGrowth': 0.673,\n",
       " 'netIncomeToCommon': 46057000960,\n",
       " 'trailingEps': 15.56,\n",
       " 'forwardEps': 14.71,\n",
       " 'pegRatio': -2.22,\n",
       " 'lastSplitFactor': '3:2',\n",
       " 'lastSplitDate': 960768000,\n",
       " 'enterpriseToRevenue': -1.55,\n",
       " '52WeekChange': 0.2612282,\n",
       " 'SandP52WeekChange': 0.038842082,\n",
       " 'lastDividendValue': 1.0,\n",
       " 'lastDividendDate': 1688515200,\n",
       " 'exchange': 'NYQ',\n",
       " 'quoteType': 'EQUITY',\n",
       " 'symbol': 'JPM',\n",
       " 'underlyingSymbol': 'JPM',\n",
       " 'shortName': 'JP Morgan Chase & Co.',\n",
       " 'longName': 'JPMorgan Chase & Co.',\n",
       " 'firstTradeDateEpochUtc': 322151400,\n",
       " 'timeZoneFullName': 'America/New_York',\n",
       " 'timeZoneShortName': 'EDT',\n",
       " 'uuid': 'bc753df4-b894-3e19-9c58-995ef66d8e67',\n",
       " 'messageBoardId': 'finmb_658776',\n",
       " 'gmtOffSetMilliseconds': -14400000,\n",
       " 'currentPrice': 154.45,\n",
       " 'targetHighPrice': 227.0,\n",
       " 'targetLowPrice': 140.0,\n",
       " 'targetMeanPrice': 169.66,\n",
       " 'targetMedianPrice': 168.0,\n",
       " 'recommendationMean': 2.0,\n",
       " 'recommendationKey': 'buy',\n",
       " 'numberOfAnalystOpinions': 25,\n",
       " 'totalCash': 1432146935808,\n",
       " 'totalCashPerShare': 492.81,\n",
       " 'totalDebt': 746319970304,\n",
       " 'totalRevenue': 135220002816,\n",
       " 'revenuePerShare': 45.697,\n",
       " 'returnOnAssets': 0.012410001,\n",
       " 'returnOnEquity': 0.15982,\n",
       " 'grossProfits': 122306000000,\n",
       " 'operatingCashflow': -9358000128,\n",
       " 'earningsGrowth': 0.721,\n",
       " 'revenueGrowth': 0.206,\n",
       " 'grossMargins': 0.0,\n",
       " 'ebitdaMargins': 0.0,\n",
       " 'operatingMargins': 0.41977,\n",
       " 'financialCurrency': 'USD',\n",
       " 'trailingPegRatio': 3.0943}"
      ]
     },
     "execution_count": 70,
     "metadata": {},
     "output_type": "execute_result"
    }
   ],
   "source": [
    "ticker = yf.Ticker(ticker_name)\n",
    "ticker.info"
   ]
  },
  {
   "cell_type": "code",
   "execution_count": 75,
   "id": "ec21af63",
   "metadata": {},
   "outputs": [
    {
     "data": {
      "text/plain": [
       "'1980-03-17'"
      ]
     },
     "execution_count": 75,
     "metadata": {},
     "output_type": "execute_result"
    }
   ],
   "source": [
    "first_trade_date = datetime.fromtimestamp(ticker.info['firstTradeDateEpochUtc']).date().strftime('%Y-%m-%d')\n",
    "first_trade_date"
   ]
  },
  {
   "cell_type": "code",
   "execution_count": 72,
   "id": "084680c4",
   "metadata": {},
   "outputs": [
    {
     "data": {
      "text/plain": [
       "'2023-08-12'"
      ]
     },
     "execution_count": 72,
     "metadata": {},
     "output_type": "execute_result"
    }
   ],
   "source": [
    "today = datetime.today().strftime('%Y-%m-%d')\n",
    "today"
   ]
  },
  {
   "cell_type": "code",
   "execution_count": 73,
   "id": "0bf76f2c",
   "metadata": {},
   "outputs": [
    {
     "name": "stdout",
     "output_type": "stream",
     "text": [
      "[*********************100%***********************]  1 of 1 completed\n"
     ]
    }
   ],
   "source": [
    "# Download data from August 1 to September 1\n",
    "stock_data = yf.download(ticker_name, start=first_trade_date, end=today) \n",
    "stock_data.index = np.datetime_as_string(stock_data.index, unit='D')\n",
    "stock_data['Ticker'] = ticker_name\n",
    "stock_data = stock_data.rename(columns={\"Adj Close\": \"Adj_Close\"})\n",
    "records = stock_data.to_records(index=True)"
   ]
  },
  {
   "cell_type": "code",
   "execution_count": 42,
   "id": "71a4993c",
   "metadata": {},
   "outputs": [
    {
     "data": {
      "text/html": [
       "<div>\n",
       "<style scoped>\n",
       "    .dataframe tbody tr th:only-of-type {\n",
       "        vertical-align: middle;\n",
       "    }\n",
       "\n",
       "    .dataframe tbody tr th {\n",
       "        vertical-align: top;\n",
       "    }\n",
       "\n",
       "    .dataframe thead th {\n",
       "        text-align: right;\n",
       "    }\n",
       "</style>\n",
       "<table border=\"1\" class=\"dataframe\">\n",
       "  <thead>\n",
       "    <tr style=\"text-align: right;\">\n",
       "      <th></th>\n",
       "      <th>Open</th>\n",
       "      <th>High</th>\n",
       "      <th>Low</th>\n",
       "      <th>Close</th>\n",
       "      <th>Adj_Close</th>\n",
       "      <th>Volume</th>\n",
       "      <th>Ticker</th>\n",
       "    </tr>\n",
       "  </thead>\n",
       "  <tbody>\n",
       "    <tr>\n",
       "      <th>1980-03-17</th>\n",
       "      <td>0.000000</td>\n",
       "      <td>5.129630</td>\n",
       "      <td>5.018519</td>\n",
       "      <td>5.037037</td>\n",
       "      <td>1.098447</td>\n",
       "      <td>62775</td>\n",
       "      <td>JPM</td>\n",
       "    </tr>\n",
       "    <tr>\n",
       "      <th>1980-03-18</th>\n",
       "      <td>0.000000</td>\n",
       "      <td>5.111111</td>\n",
       "      <td>5.037037</td>\n",
       "      <td>5.074074</td>\n",
       "      <td>1.106524</td>\n",
       "      <td>64125</td>\n",
       "      <td>JPM</td>\n",
       "    </tr>\n",
       "    <tr>\n",
       "      <th>1980-03-19</th>\n",
       "      <td>0.000000</td>\n",
       "      <td>5.166667</td>\n",
       "      <td>5.111111</td>\n",
       "      <td>5.148148</td>\n",
       "      <td>1.122678</td>\n",
       "      <td>40500</td>\n",
       "      <td>JPM</td>\n",
       "    </tr>\n",
       "    <tr>\n",
       "      <th>1980-03-20</th>\n",
       "      <td>0.000000</td>\n",
       "      <td>5.148148</td>\n",
       "      <td>5.092593</td>\n",
       "      <td>5.111111</td>\n",
       "      <td>1.114601</td>\n",
       "      <td>18900</td>\n",
       "      <td>JPM</td>\n",
       "    </tr>\n",
       "    <tr>\n",
       "      <th>1980-03-21</th>\n",
       "      <td>0.000000</td>\n",
       "      <td>5.222222</td>\n",
       "      <td>5.111111</td>\n",
       "      <td>5.222222</td>\n",
       "      <td>1.138831</td>\n",
       "      <td>97200</td>\n",
       "      <td>JPM</td>\n",
       "    </tr>\n",
       "    <tr>\n",
       "      <th>...</th>\n",
       "      <td>...</td>\n",
       "      <td>...</td>\n",
       "      <td>...</td>\n",
       "      <td>...</td>\n",
       "      <td>...</td>\n",
       "      <td>...</td>\n",
       "      <td>...</td>\n",
       "    </tr>\n",
       "    <tr>\n",
       "      <th>2023-08-04</th>\n",
       "      <td>156.399994</td>\n",
       "      <td>157.800003</td>\n",
       "      <td>155.699997</td>\n",
       "      <td>156.020004</td>\n",
       "      <td>156.020004</td>\n",
       "      <td>6206600</td>\n",
       "      <td>JPM</td>\n",
       "    </tr>\n",
       "    <tr>\n",
       "      <th>2023-08-07</th>\n",
       "      <td>156.600006</td>\n",
       "      <td>157.699997</td>\n",
       "      <td>156.600006</td>\n",
       "      <td>156.759995</td>\n",
       "      <td>156.759995</td>\n",
       "      <td>7251800</td>\n",
       "      <td>JPM</td>\n",
       "    </tr>\n",
       "    <tr>\n",
       "      <th>2023-08-08</th>\n",
       "      <td>154.320007</td>\n",
       "      <td>155.979996</td>\n",
       "      <td>152.589996</td>\n",
       "      <td>155.880005</td>\n",
       "      <td>155.880005</td>\n",
       "      <td>8623400</td>\n",
       "      <td>JPM</td>\n",
       "    </tr>\n",
       "    <tr>\n",
       "      <th>2023-08-09</th>\n",
       "      <td>155.320007</td>\n",
       "      <td>155.520004</td>\n",
       "      <td>153.470001</td>\n",
       "      <td>153.789993</td>\n",
       "      <td>153.789993</td>\n",
       "      <td>6277800</td>\n",
       "      <td>JPM</td>\n",
       "    </tr>\n",
       "    <tr>\n",
       "      <th>2023-08-10</th>\n",
       "      <td>154.380005</td>\n",
       "      <td>155.440002</td>\n",
       "      <td>153.089996</td>\n",
       "      <td>153.559998</td>\n",
       "      <td>153.559998</td>\n",
       "      <td>5993400</td>\n",
       "      <td>JPM</td>\n",
       "    </tr>\n",
       "  </tbody>\n",
       "</table>\n",
       "<p>10943 rows × 7 columns</p>\n",
       "</div>"
      ],
      "text/plain": [
       "                  Open        High         Low       Close   Adj_Close  \\\n",
       "1980-03-17    0.000000    5.129630    5.018519    5.037037    1.098447   \n",
       "1980-03-18    0.000000    5.111111    5.037037    5.074074    1.106524   \n",
       "1980-03-19    0.000000    5.166667    5.111111    5.148148    1.122678   \n",
       "1980-03-20    0.000000    5.148148    5.092593    5.111111    1.114601   \n",
       "1980-03-21    0.000000    5.222222    5.111111    5.222222    1.138831   \n",
       "...                ...         ...         ...         ...         ...   \n",
       "2023-08-04  156.399994  157.800003  155.699997  156.020004  156.020004   \n",
       "2023-08-07  156.600006  157.699997  156.600006  156.759995  156.759995   \n",
       "2023-08-08  154.320007  155.979996  152.589996  155.880005  155.880005   \n",
       "2023-08-09  155.320007  155.520004  153.470001  153.789993  153.789993   \n",
       "2023-08-10  154.380005  155.440002  153.089996  153.559998  153.559998   \n",
       "\n",
       "             Volume Ticker  \n",
       "1980-03-17    62775    JPM  \n",
       "1980-03-18    64125    JPM  \n",
       "1980-03-19    40500    JPM  \n",
       "1980-03-20    18900    JPM  \n",
       "1980-03-21    97200    JPM  \n",
       "...             ...    ...  \n",
       "2023-08-04  6206600    JPM  \n",
       "2023-08-07  7251800    JPM  \n",
       "2023-08-08  8623400    JPM  \n",
       "2023-08-09  6277800    JPM  \n",
       "2023-08-10  5993400    JPM  \n",
       "\n",
       "[10943 rows x 7 columns]"
      ]
     },
     "execution_count": 42,
     "metadata": {},
     "output_type": "execute_result"
    }
   ],
   "source": [
    "stock_data"
   ]
  },
  {
   "cell_type": "code",
   "execution_count": 43,
   "id": "2ae1714d",
   "metadata": {},
   "outputs": [],
   "source": [
    "stock_data['daily_return'] = (stock_data['Close'] / stock_data['Close'].shift(1)) - 1"
   ]
  },
  {
   "cell_type": "code",
   "execution_count": 44,
   "id": "89719227",
   "metadata": {},
   "outputs": [
    {
     "data": {
      "text/html": [
       "<div>\n",
       "<style scoped>\n",
       "    .dataframe tbody tr th:only-of-type {\n",
       "        vertical-align: middle;\n",
       "    }\n",
       "\n",
       "    .dataframe tbody tr th {\n",
       "        vertical-align: top;\n",
       "    }\n",
       "\n",
       "    .dataframe thead th {\n",
       "        text-align: right;\n",
       "    }\n",
       "</style>\n",
       "<table border=\"1\" class=\"dataframe\">\n",
       "  <thead>\n",
       "    <tr style=\"text-align: right;\">\n",
       "      <th></th>\n",
       "      <th>Open</th>\n",
       "      <th>High</th>\n",
       "      <th>Low</th>\n",
       "      <th>Close</th>\n",
       "      <th>Adj_Close</th>\n",
       "      <th>Volume</th>\n",
       "      <th>Ticker</th>\n",
       "      <th>daily_return</th>\n",
       "    </tr>\n",
       "  </thead>\n",
       "  <tbody>\n",
       "    <tr>\n",
       "      <th>1980-03-17</th>\n",
       "      <td>0.000000</td>\n",
       "      <td>5.129630</td>\n",
       "      <td>5.018519</td>\n",
       "      <td>5.037037</td>\n",
       "      <td>1.098447</td>\n",
       "      <td>62775</td>\n",
       "      <td>JPM</td>\n",
       "      <td>NaN</td>\n",
       "    </tr>\n",
       "    <tr>\n",
       "      <th>1980-03-18</th>\n",
       "      <td>0.000000</td>\n",
       "      <td>5.111111</td>\n",
       "      <td>5.037037</td>\n",
       "      <td>5.074074</td>\n",
       "      <td>1.106524</td>\n",
       "      <td>64125</td>\n",
       "      <td>JPM</td>\n",
       "      <td>0.007353</td>\n",
       "    </tr>\n",
       "    <tr>\n",
       "      <th>1980-03-19</th>\n",
       "      <td>0.000000</td>\n",
       "      <td>5.166667</td>\n",
       "      <td>5.111111</td>\n",
       "      <td>5.148148</td>\n",
       "      <td>1.122678</td>\n",
       "      <td>40500</td>\n",
       "      <td>JPM</td>\n",
       "      <td>0.014599</td>\n",
       "    </tr>\n",
       "    <tr>\n",
       "      <th>1980-03-20</th>\n",
       "      <td>0.000000</td>\n",
       "      <td>5.148148</td>\n",
       "      <td>5.092593</td>\n",
       "      <td>5.111111</td>\n",
       "      <td>1.114601</td>\n",
       "      <td>18900</td>\n",
       "      <td>JPM</td>\n",
       "      <td>-0.007194</td>\n",
       "    </tr>\n",
       "    <tr>\n",
       "      <th>1980-03-21</th>\n",
       "      <td>0.000000</td>\n",
       "      <td>5.222222</td>\n",
       "      <td>5.111111</td>\n",
       "      <td>5.222222</td>\n",
       "      <td>1.138831</td>\n",
       "      <td>97200</td>\n",
       "      <td>JPM</td>\n",
       "      <td>0.021739</td>\n",
       "    </tr>\n",
       "    <tr>\n",
       "      <th>...</th>\n",
       "      <td>...</td>\n",
       "      <td>...</td>\n",
       "      <td>...</td>\n",
       "      <td>...</td>\n",
       "      <td>...</td>\n",
       "      <td>...</td>\n",
       "      <td>...</td>\n",
       "      <td>...</td>\n",
       "    </tr>\n",
       "    <tr>\n",
       "      <th>2023-08-04</th>\n",
       "      <td>156.399994</td>\n",
       "      <td>157.800003</td>\n",
       "      <td>155.699997</td>\n",
       "      <td>156.020004</td>\n",
       "      <td>156.020004</td>\n",
       "      <td>6206600</td>\n",
       "      <td>JPM</td>\n",
       "      <td>-0.002111</td>\n",
       "    </tr>\n",
       "    <tr>\n",
       "      <th>2023-08-07</th>\n",
       "      <td>156.600006</td>\n",
       "      <td>157.699997</td>\n",
       "      <td>156.600006</td>\n",
       "      <td>156.759995</td>\n",
       "      <td>156.759995</td>\n",
       "      <td>7251800</td>\n",
       "      <td>JPM</td>\n",
       "      <td>0.004743</td>\n",
       "    </tr>\n",
       "    <tr>\n",
       "      <th>2023-08-08</th>\n",
       "      <td>154.320007</td>\n",
       "      <td>155.979996</td>\n",
       "      <td>152.589996</td>\n",
       "      <td>155.880005</td>\n",
       "      <td>155.880005</td>\n",
       "      <td>8623400</td>\n",
       "      <td>JPM</td>\n",
       "      <td>-0.005614</td>\n",
       "    </tr>\n",
       "    <tr>\n",
       "      <th>2023-08-09</th>\n",
       "      <td>155.320007</td>\n",
       "      <td>155.520004</td>\n",
       "      <td>153.470001</td>\n",
       "      <td>153.789993</td>\n",
       "      <td>153.789993</td>\n",
       "      <td>6277800</td>\n",
       "      <td>JPM</td>\n",
       "      <td>-0.013408</td>\n",
       "    </tr>\n",
       "    <tr>\n",
       "      <th>2023-08-10</th>\n",
       "      <td>154.380005</td>\n",
       "      <td>155.440002</td>\n",
       "      <td>153.089996</td>\n",
       "      <td>153.559998</td>\n",
       "      <td>153.559998</td>\n",
       "      <td>5993400</td>\n",
       "      <td>JPM</td>\n",
       "      <td>-0.001496</td>\n",
       "    </tr>\n",
       "  </tbody>\n",
       "</table>\n",
       "<p>10943 rows × 8 columns</p>\n",
       "</div>"
      ],
      "text/plain": [
       "                  Open        High         Low       Close   Adj_Close  \\\n",
       "1980-03-17    0.000000    5.129630    5.018519    5.037037    1.098447   \n",
       "1980-03-18    0.000000    5.111111    5.037037    5.074074    1.106524   \n",
       "1980-03-19    0.000000    5.166667    5.111111    5.148148    1.122678   \n",
       "1980-03-20    0.000000    5.148148    5.092593    5.111111    1.114601   \n",
       "1980-03-21    0.000000    5.222222    5.111111    5.222222    1.138831   \n",
       "...                ...         ...         ...         ...         ...   \n",
       "2023-08-04  156.399994  157.800003  155.699997  156.020004  156.020004   \n",
       "2023-08-07  156.600006  157.699997  156.600006  156.759995  156.759995   \n",
       "2023-08-08  154.320007  155.979996  152.589996  155.880005  155.880005   \n",
       "2023-08-09  155.320007  155.520004  153.470001  153.789993  153.789993   \n",
       "2023-08-10  154.380005  155.440002  153.089996  153.559998  153.559998   \n",
       "\n",
       "             Volume Ticker  daily_return  \n",
       "1980-03-17    62775    JPM           NaN  \n",
       "1980-03-18    64125    JPM      0.007353  \n",
       "1980-03-19    40500    JPM      0.014599  \n",
       "1980-03-20    18900    JPM     -0.007194  \n",
       "1980-03-21    97200    JPM      0.021739  \n",
       "...             ...    ...           ...  \n",
       "2023-08-04  6206600    JPM     -0.002111  \n",
       "2023-08-07  7251800    JPM      0.004743  \n",
       "2023-08-08  8623400    JPM     -0.005614  \n",
       "2023-08-09  6277800    JPM     -0.013408  \n",
       "2023-08-10  5993400    JPM     -0.001496  \n",
       "\n",
       "[10943 rows x 8 columns]"
      ]
     },
     "execution_count": 44,
     "metadata": {},
     "output_type": "execute_result"
    }
   ],
   "source": [
    "stock_data"
   ]
  },
  {
   "cell_type": "code",
   "execution_count": 51,
   "id": "31eeda86",
   "metadata": {},
   "outputs": [
    {
     "data": {
      "text/plain": [
       "1980-03-17    0.000000\n",
       "1980-03-18    0.007353\n",
       "1980-03-19    0.014599\n",
       "1980-03-20   -0.007194\n",
       "1980-03-21    0.021739\n",
       "                ...   \n",
       "2023-08-04   -0.002111\n",
       "2023-08-07    0.004743\n",
       "2023-08-08   -0.005614\n",
       "2023-08-09   -0.013408\n",
       "2023-08-10   -0.001496\n",
       "Name: daily_return, Length: 10943, dtype: float64"
      ]
     },
     "execution_count": 51,
     "metadata": {},
     "output_type": "execute_result"
    }
   ],
   "source": [
    "# Replaced Nan with 0\n",
    "daily_return = stock_data['daily_return'].copy()\n",
    "daily_return.fillna(0,inplace=True)\n",
    "daily_return"
   ]
  },
  {
   "cell_type": "code",
   "execution_count": 55,
   "id": "550149d1",
   "metadata": {},
   "outputs": [],
   "source": [
    "data = np.array(daily_return.values.astype('float32'))\n",
    "data = data.reshape(-1, 1)"
   ]
  },
  {
   "cell_type": "code",
   "execution_count": 57,
   "id": "dcd9de47",
   "metadata": {},
   "outputs": [
    {
     "data": {
      "text/plain": [
       "array([0.52482736, 0.5387491 , 0.55246776, ..., 0.5141987 , 0.49944147,\n",
       "       0.5219958 ], dtype=float32)"
      ]
     },
     "execution_count": 57,
     "metadata": {},
     "output_type": "execute_result"
    }
   ],
   "source": [
    "scaler = MinMaxScaler(feature_range=(0, 1))\n",
    "data = scaler.fit_transform(data).flatten()\n",
    "data"
   ]
  },
  {
   "cell_type": "code",
   "execution_count": 58,
   "id": "bff534ec",
   "metadata": {},
   "outputs": [
    {
     "data": {
      "text/plain": [
       "8754"
      ]
     },
     "execution_count": 58,
     "metadata": {},
     "output_type": "execute_result"
    }
   ],
   "source": [
    "split_percent=0.8\n",
    "n = len(data)\n",
    "split = int(n*split_percent)\n",
    "split"
   ]
  },
  {
   "cell_type": "code",
   "execution_count": 59,
   "id": "debd3dce",
   "metadata": {},
   "outputs": [
    {
     "data": {
      "text/plain": [
       "8754"
      ]
     },
     "execution_count": 59,
     "metadata": {},
     "output_type": "execute_result"
    }
   ],
   "source": [
    "train_data = data[range(split)]\n",
    "len(train_data)"
   ]
  },
  {
   "cell_type": "code",
   "execution_count": 60,
   "id": "817975ae",
   "metadata": {},
   "outputs": [
    {
     "data": {
      "text/plain": [
       "2189"
      ]
     },
     "execution_count": 60,
     "metadata": {},
     "output_type": "execute_result"
    }
   ],
   "source": [
    "test_data = data[split:]\n",
    "len(test_data)"
   ]
  },
  {
   "cell_type": "code",
   "execution_count": 63,
   "id": "24dc39f2",
   "metadata": {},
   "outputs": [],
   "source": [
    "def create_RNN(hidden_units, dense_units, input_shape, activation):\n",
    "    model = Sequential()\n",
    "    model.add(SimpleRNN(hidden_units, input_shape=input_shape, \n",
    "                        activation=activation[0]))\n",
    "    model.add(Dense(units=dense_units, activation=activation[1]))\n",
    "    model.compile(loss='mean_squared_error', optimizer='adam')\n",
    "    return model\n",
    " \n",
    "demo_model = create_RNN(2, 1, (3,1), activation=['linear', 'linear'])"
   ]
  },
  {
   "cell_type": "code",
   "execution_count": 61,
   "id": "1bb38367",
   "metadata": {},
   "outputs": [],
   "source": [
    "# Prepare the input X and target Y\n",
    "def get_XY(dat, time_steps):\n",
    "    # Indices of target array\n",
    "    Y_ind = np.arange(time_steps, len(dat), time_steps)\n",
    "    Y = dat[Y_ind]\n",
    "    # Prepare X\n",
    "    rows_x = len(Y)\n",
    "    X = dat[range(time_steps*rows_x)]\n",
    "    X = np.reshape(X, (rows_x, time_steps, 1))    \n",
    "    return X, Y\n",
    "\n",
    "time_steps = 12\n",
    "trainX, trainY = get_XY(train_data, time_steps)\n",
    "testX, testY = get_XY(test_data, time_steps)"
   ]
  },
  {
   "cell_type": "code",
   "execution_count": 64,
   "id": "9664470a",
   "metadata": {},
   "outputs": [
    {
     "name": "stdout",
     "output_type": "stream",
     "text": [
      "Epoch 1/20\n",
      "729/729 - 1s - loss: 0.1191 - 591ms/epoch - 811us/step\n",
      "Epoch 2/20\n",
      "729/729 - 0s - loss: 0.0021 - 400ms/epoch - 549us/step\n",
      "Epoch 3/20\n",
      "729/729 - 0s - loss: 0.0021 - 337ms/epoch - 462us/step\n",
      "Epoch 4/20\n",
      "729/729 - 0s - loss: 0.0021 - 327ms/epoch - 449us/step\n",
      "Epoch 5/20\n",
      "729/729 - 0s - loss: 0.0020 - 327ms/epoch - 449us/step\n",
      "Epoch 6/20\n",
      "729/729 - 0s - loss: 0.0019 - 326ms/epoch - 447us/step\n",
      "Epoch 7/20\n",
      "729/729 - 0s - loss: 0.0019 - 328ms/epoch - 450us/step\n",
      "Epoch 8/20\n",
      "729/729 - 0s - loss: 0.0018 - 331ms/epoch - 454us/step\n",
      "Epoch 9/20\n",
      "729/729 - 0s - loss: 0.0018 - 329ms/epoch - 451us/step\n",
      "Epoch 10/20\n",
      "729/729 - 0s - loss: 0.0017 - 326ms/epoch - 448us/step\n",
      "Epoch 11/20\n",
      "729/729 - 0s - loss: 0.0017 - 325ms/epoch - 446us/step\n",
      "Epoch 12/20\n",
      "729/729 - 0s - loss: 0.0017 - 325ms/epoch - 446us/step\n",
      "Epoch 13/20\n",
      "729/729 - 0s - loss: 0.0017 - 326ms/epoch - 447us/step\n",
      "Epoch 14/20\n",
      "729/729 - 0s - loss: 0.0016 - 392ms/epoch - 537us/step\n",
      "Epoch 15/20\n",
      "729/729 - 0s - loss: 0.0017 - 387ms/epoch - 531us/step\n",
      "Epoch 16/20\n",
      "729/729 - 0s - loss: 0.0017 - 328ms/epoch - 450us/step\n",
      "Epoch 17/20\n",
      "729/729 - 0s - loss: 0.0017 - 326ms/epoch - 447us/step\n",
      "Epoch 18/20\n",
      "729/729 - 0s - loss: 0.0017 - 324ms/epoch - 445us/step\n",
      "Epoch 19/20\n",
      "729/729 - 0s - loss: 0.0016 - 325ms/epoch - 446us/step\n",
      "Epoch 20/20\n",
      "729/729 - 0s - loss: 0.0017 - 327ms/epoch - 448us/step\n"
     ]
    },
    {
     "data": {
      "text/plain": [
       "<keras.src.callbacks.History at 0x2e924e010>"
      ]
     },
     "execution_count": 64,
     "metadata": {},
     "output_type": "execute_result"
    }
   ],
   "source": [
    "model = create_RNN(hidden_units=3, dense_units=1, input_shape=(time_steps,1), \n",
    "                   activation=['tanh', 'tanh'])\n",
    "model.fit(trainX, trainY, epochs=20, batch_size=1, verbose=2)"
   ]
  },
  {
   "cell_type": "code",
   "execution_count": 65,
   "id": "6e97f84f",
   "metadata": {},
   "outputs": [
    {
     "name": "stdout",
     "output_type": "stream",
     "text": [
      "23/23 [==============================] - 0s 473us/step\n",
      "6/6 [==============================] - 0s 479us/step\n",
      "Train RMSE: 0.042 RMSE\n",
      "Test RMSE: 0.039 RMSE\n"
     ]
    }
   ],
   "source": [
    "def print_error(trainY, testY, train_predict, test_predict):    \n",
    "    # Error of predictions\n",
    "    train_rmse = math.sqrt(mean_squared_error(trainY, train_predict))\n",
    "    test_rmse = math.sqrt(mean_squared_error(testY, test_predict))\n",
    "    # Print RMSE\n",
    "    print('Train RMSE: %.3f RMSE' % (train_rmse))\n",
    "    print('Test RMSE: %.3f RMSE' % (test_rmse))    \n",
    "\n",
    "# make predictions\n",
    "train_predict = model.predict(trainX)\n",
    "test_predict = model.predict(testX)\n",
    "# Mean square error\n",
    "print_error(trainY, testY, train_predict, test_predict)"
   ]
  },
  {
   "cell_type": "code",
   "execution_count": 67,
   "id": "6fc721bf",
   "metadata": {},
   "outputs": [
    {
     "data": {
      "image/png": "[encoded data removed]",
      "text/plain": [
       "<Figure size 1200x480 with 1 Axes>"
      ]
     },
     "metadata": {},
     "output_type": "display_data"
    }
   ],
   "source": [
    "# Plot the result\n",
    "def plot_result(trainY, testY, train_predict, test_predict):\n",
    "    actual = np.append(trainY, testY)\n",
    "    predictions = np.append(train_predict, test_predict)\n",
    "    rows = len(actual)\n",
    "    plt.figure(figsize=(15, 6), dpi=80)\n",
    "    plt.plot(range(rows), actual)\n",
    "    plt.plot(range(rows), predictions)\n",
    "    plt.axvline(x=len(trainY), color='r')\n",
    "    plt.legend(['Actual', 'Predictions'])\n",
    "    plt.xlabel('Observation number after given time steps')\n",
    "    plt.ylabel('Daily return scaled')\n",
    "    plt.title('Actual and Predicted Values. The Red Line Separates The Training And Test Examples')\n",
    "plot_result(trainY, testY, train_predict, test_predict)"
   ]
  },
  {
   "cell_type": "markdown",
   "id": "c56c646b",
   "metadata": {},
   "source": [
    "### Reference\n",
    "- [Derek Banas - How to invest](https://www.youtube.com/watch?v=4jaBKXDqg9U&list=PLGLfVvz_LVvTHOWIEBAl-YOr_FC8lRmWX&index=13&ab_channel=DerekBanas)\n",
    "- [Building Financial Data Storage with PostgreSQL in Python](https://medium.com/the-handbook-of-coding-in-finance/building-financial-data-storage-with-postgresql-in-python-b981e38826fe)\n",
    "- [Understinding Simple Recurrent Neural Network in Keras](https://machinelearningmastery.com/understanding-simple-recurrent-neural-networks-in-keras/)"
   ]
  },
  {
   "cell_type": "code",
   "execution_count": null,
   "id": "c764772a",
   "metadata": {},
   "outputs": [],
   "source": []
  }
 ],
 "metadata": {
  "kernelspec": {
   "display_name": "Python 3 (ipykernel)",
   "language": "python",
   "name": "python3"
  },
  "language_info": {
   "codemirror_mode": {
    "name": "ipython",
    "version": 3
   },
   "file_extension": ".py",
   "mimetype": "text/x-python",
   "name": "python",
   "nbconvert_exporter": "python",
   "pygments_lexer": "ipython3",
   "version": "3.11.4"
  }
 },
 "nbformat": 4,
 "nbformat_minor": 5
}
